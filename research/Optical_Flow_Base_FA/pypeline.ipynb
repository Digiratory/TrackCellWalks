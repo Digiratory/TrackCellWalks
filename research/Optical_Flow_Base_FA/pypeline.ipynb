{
 "cells": [
  {
   "cell_type": "markdown",
   "metadata": {},
   "source": [
    "### TrackCellWalks pipeline \n",
    "\n",
    "video processing by analyzing the optical flow of all content within the mask, evaluated by the integral method (Farneback / EMD)"
   ]
  },
  {
   "cell_type": "markdown",
   "metadata": {},
   "source": [
    "#### Step 1. Define the input data"
   ]
  },
  {
   "cell_type": "code",
   "execution_count": 7,
   "metadata": {},
   "outputs": [],
   "source": [
    "file_name = 'vid'\n",
    "inputfile = f'../../data/bacterial_video/{file_name}.AVI' \n",
    "outputfile = f'../../data/bacterial_video/{file_name}.mp4'\n"
   ]
  },
  {
   "cell_type": "markdown",
   "metadata": {},
   "source": [
    "#### Step 2. Run workflow"
   ]
  },
  {
   "cell_type": "code",
   "execution_count": 8,
   "metadata": {},
   "outputs": [
    {
     "ename": "KeyboardInterrupt",
     "evalue": "",
     "output_type": "error",
     "traceback": [
      "\u001b[0;31m---------------------------------------------------------------------------\u001b[0m",
      "\u001b[0;31mKeyboardInterrupt\u001b[0m                         Traceback (most recent call last)",
      "File \u001b[0;32m/Volumes/Z Slim/work/TrackCellWalks/research/Optical_Flow_Base_FA/main.py:57\u001b[0m\n\u001b[1;32m     54\u001b[0m     \u001b[38;5;28;01mif\u001b[39;00m \u001b[38;5;129;01mnot\u001b[39;00m new \u001b[38;5;129;01min\u001b[39;00m S:\n\u001b[1;32m     55\u001b[0m         S\u001b[38;5;241m.\u001b[39mappend(new)\n\u001b[0;32m---> 57\u001b[0m vs_np, us_np \u001b[38;5;241m=\u001b[39m \u001b[43mget_vid_opt_flow\u001b[49m\u001b[43m(\u001b[49m\u001b[43minput_file\u001b[49m\u001b[43m,\u001b[49m\u001b[43m \u001b[49m\u001b[43mcache_file\u001b[49m\u001b[43m)\u001b[49m\n\u001b[1;32m     58\u001b[0m vector_field \u001b[38;5;241m=\u001b[39m vs_np \u001b[38;5;241m+\u001b[39m \u001b[38;5;241m1\u001b[39mj \u001b[38;5;241m*\u001b[39m us_np\n\u001b[1;32m     60\u001b[0m THRESH \u001b[38;5;241m=\u001b[39m \u001b[38;5;241m0.5\u001b[39m\n",
      "File \u001b[0;32m/Volumes/Z Slim/work/TrackCellWalks/research/Optical_Flow_Base_FA/../utils/optical_flow.py:133\u001b[0m, in \u001b[0;36mget_vid_opt_flow\u001b[0;34m(video_path, cache_path, start_frame, step)\u001b[0m\n\u001b[1;32m    131\u001b[0m \u001b[38;5;28;01melse\u001b[39;00m:\n\u001b[1;32m    132\u001b[0m     \u001b[38;5;28;01mwith\u001b[39;00m np\u001b[38;5;241m.\u001b[39mload(cache_path) \u001b[38;5;28;01mas\u001b[39;00m npzfile:\n\u001b[0;32m--> 133\u001b[0m         vs_np \u001b[38;5;241m=\u001b[39m npzfile[\u001b[38;5;124m\"\u001b[39m\u001b[38;5;124mvs\u001b[39m\u001b[38;5;124m\"\u001b[39m]\n\u001b[1;32m    134\u001b[0m         us_np \u001b[38;5;241m=\u001b[39m npzfile[\u001b[38;5;124m\"\u001b[39m\u001b[38;5;124mus\u001b[39m\u001b[38;5;124m\"\u001b[39m]\n\u001b[1;32m    135\u001b[0m \u001b[38;5;28;01mreturn\u001b[39;00m vs_np, us_np\n",
      "File \u001b[0;32m/Volumes/Z Slim/work/TrackCellWalks/research/Optical_Flow_Base_FA/../utils/optical_flow.py:115\u001b[0m, in \u001b[0;36mcompute_optical_flow\u001b[0;34m(generator, radius, gen_length)\u001b[0m\n\u001b[1;32m    113\u001b[0m         vs\u001b[38;5;241m.\u001b[39mappend(v)\n\u001b[1;32m    114\u001b[0m         us\u001b[38;5;241m.\u001b[39mappend(u)\n\u001b[0;32m--> 115\u001b[0m \u001b[38;5;28;01mreturn\u001b[39;00m np\u001b[38;5;241m.\u001b[39marray(vs), np\u001b[38;5;241m.\u001b[39marray(us)\n",
      "File \u001b[0;32m~/.pyenv/versions/3.11.8/envs/track_cell_walks/lib/python3.11/site-packages/skimage/registration/_optical_flow.py:228\u001b[0m, in \u001b[0;36moptical_flow_tvl1\u001b[0;34m(reference_image, moving_image, attachment, tightness, num_warp, num_iter, tol, prefilter, dtype)\u001b[0m\n\u001b[1;32m    225\u001b[0m     msg \u001b[38;5;241m=\u001b[39m \u001b[38;5;124mf\u001b[39m\u001b[38;5;124m\"\u001b[39m\u001b[38;5;124mdtype=\u001b[39m\u001b[38;5;132;01m{\u001b[39;00mdtype\u001b[38;5;132;01m}\u001b[39;00m\u001b[38;5;124m is not supported. Try \u001b[39m\u001b[38;5;124m'\u001b[39m\u001b[38;5;124mfloat32\u001b[39m\u001b[38;5;124m'\u001b[39m\u001b[38;5;124m or \u001b[39m\u001b[38;5;124m'\u001b[39m\u001b[38;5;124mfloat64.\u001b[39m\u001b[38;5;124m'\u001b[39m\u001b[38;5;124m\"\u001b[39m\n\u001b[1;32m    226\u001b[0m     \u001b[38;5;28;01mraise\u001b[39;00m \u001b[38;5;167;01mValueError\u001b[39;00m(msg)\n\u001b[0;32m--> 228\u001b[0m \u001b[38;5;28;01mreturn\u001b[39;00m \u001b[43mcoarse_to_fine\u001b[49m\u001b[43m(\u001b[49m\u001b[43mreference_image\u001b[49m\u001b[43m,\u001b[49m\u001b[43m \u001b[49m\u001b[43mmoving_image\u001b[49m\u001b[43m,\u001b[49m\u001b[43m \u001b[49m\u001b[43msolver\u001b[49m\u001b[43m,\u001b[49m\u001b[43m \u001b[49m\u001b[43mdtype\u001b[49m\u001b[38;5;241;43m=\u001b[39;49m\u001b[43mdtype\u001b[49m\u001b[43m)\u001b[49m\n",
      "File \u001b[0;32m~/.pyenv/versions/3.11.8/envs/track_cell_walks/lib/python3.11/site-packages/skimage/registration/_optical_flow_utils.py:148\u001b[0m, in \u001b[0;36mcoarse_to_fine\u001b[0;34m(I0, I1, solver, downscale, nlevel, min_size, dtype)\u001b[0m\n\u001b[1;32m    145\u001b[0m flow \u001b[38;5;241m=\u001b[39m solver(pyramid[\u001b[38;5;241m0\u001b[39m][\u001b[38;5;241m0\u001b[39m], pyramid[\u001b[38;5;241m0\u001b[39m][\u001b[38;5;241m1\u001b[39m], flow)\n\u001b[1;32m    147\u001b[0m \u001b[38;5;28;01mfor\u001b[39;00m J0, J1 \u001b[38;5;129;01min\u001b[39;00m pyramid[\u001b[38;5;241m1\u001b[39m:]:\n\u001b[0;32m--> 148\u001b[0m     flow \u001b[38;5;241m=\u001b[39m \u001b[43msolver\u001b[49m\u001b[43m(\u001b[49m\u001b[43mJ0\u001b[49m\u001b[43m,\u001b[49m\u001b[43m \u001b[49m\u001b[43mJ1\u001b[49m\u001b[43m,\u001b[49m\u001b[43m \u001b[49m\u001b[43mresize_flow\u001b[49m\u001b[43m(\u001b[49m\u001b[43mflow\u001b[49m\u001b[43m,\u001b[49m\u001b[43m \u001b[49m\u001b[43mJ0\u001b[49m\u001b[38;5;241;43m.\u001b[39;49m\u001b[43mshape\u001b[49m\u001b[43m)\u001b[49m\u001b[43m)\u001b[49m\n\u001b[1;32m    150\u001b[0m \u001b[38;5;28;01mreturn\u001b[39;00m flow\n",
      "File \u001b[0;32m~/.pyenv/versions/3.11.8/envs/track_cell_walks/lib/python3.11/site-packages/skimage/registration/_optical_flow.py:113\u001b[0m, in \u001b[0;36m_tvl1\u001b[0;34m(reference_image, moving_image, flow0, attachment, tightness, num_warp, num_iter, tol, prefilter)\u001b[0m\n\u001b[1;32m    111\u001b[0m     s_g[\u001b[38;5;241m0\u001b[39m] \u001b[38;5;241m=\u001b[39m ax\n\u001b[1;32m    112\u001b[0m     s_g[ax\u001b[38;5;241m+\u001b[39m\u001b[38;5;241m1\u001b[39m] \u001b[38;5;241m=\u001b[39m \u001b[38;5;28mslice\u001b[39m(\u001b[38;5;241m0\u001b[39m, \u001b[38;5;241m-\u001b[39m\u001b[38;5;241m1\u001b[39m)\n\u001b[0;32m--> 113\u001b[0m     g[\u001b[38;5;28mtuple\u001b[39m(s_g)] \u001b[38;5;241m=\u001b[39m \u001b[43mnp\u001b[49m\u001b[38;5;241;43m.\u001b[39;49m\u001b[43mdiff\u001b[49m\u001b[43m(\u001b[49m\u001b[43mflow_current\u001b[49m\u001b[43m[\u001b[49m\u001b[43midx\u001b[49m\u001b[43m]\u001b[49m\u001b[43m,\u001b[49m\u001b[43m \u001b[49m\u001b[43maxis\u001b[49m\u001b[38;5;241;43m=\u001b[39;49m\u001b[43max\u001b[49m\u001b[43m)\u001b[49m\n\u001b[1;32m    114\u001b[0m     s_g[ax\u001b[38;5;241m+\u001b[39m\u001b[38;5;241m1\u001b[39m] \u001b[38;5;241m=\u001b[39m \u001b[38;5;28mslice\u001b[39m(\u001b[38;5;28;01mNone\u001b[39;00m)\n\u001b[1;32m    116\u001b[0m norm \u001b[38;5;241m=\u001b[39m np\u001b[38;5;241m.\u001b[39msqrt((g \u001b[38;5;241m*\u001b[39m\u001b[38;5;241m*\u001b[39m \u001b[38;5;241m2\u001b[39m)\u001b[38;5;241m.\u001b[39msum(\u001b[38;5;241m0\u001b[39m))[np\u001b[38;5;241m.\u001b[39mnewaxis, \u001b[38;5;241m.\u001b[39m\u001b[38;5;241m.\u001b[39m\u001b[38;5;241m.\u001b[39m]\n",
      "File \u001b[0;32m~/.pyenv/versions/3.11.8/envs/track_cell_walks/lib/python3.11/site-packages/numpy/lib/function_base.py:1452\u001b[0m, in \u001b[0;36mdiff\u001b[0;34m(a, n, axis, prepend, append)\u001b[0m\n\u001b[1;32m   1450\u001b[0m op \u001b[38;5;241m=\u001b[39m not_equal \u001b[38;5;28;01mif\u001b[39;00m a\u001b[38;5;241m.\u001b[39mdtype \u001b[38;5;241m==\u001b[39m np\u001b[38;5;241m.\u001b[39mbool_ \u001b[38;5;28;01melse\u001b[39;00m subtract\n\u001b[1;32m   1451\u001b[0m \u001b[38;5;28;01mfor\u001b[39;00m _ \u001b[38;5;129;01min\u001b[39;00m \u001b[38;5;28mrange\u001b[39m(n):\n\u001b[0;32m-> 1452\u001b[0m     a \u001b[38;5;241m=\u001b[39m \u001b[43mop\u001b[49m\u001b[43m(\u001b[49m\u001b[43ma\u001b[49m\u001b[43m[\u001b[49m\u001b[43mslice1\u001b[49m\u001b[43m]\u001b[49m\u001b[43m,\u001b[49m\u001b[43m \u001b[49m\u001b[43ma\u001b[49m\u001b[43m[\u001b[49m\u001b[43mslice2\u001b[49m\u001b[43m]\u001b[49m\u001b[43m)\u001b[49m\n\u001b[1;32m   1454\u001b[0m \u001b[38;5;28;01mreturn\u001b[39;00m a\n",
      "\u001b[0;31mKeyboardInterrupt\u001b[0m: "
     ]
    }
   ],
   "source": [
    "%run 'main.py' -i {inputfile} -o {outputfile}"
   ]
  },
  {
   "cell_type": "markdown",
   "metadata": {},
   "source": [
    "#### Step 3. View results of optiacal flow"
   ]
  },
  {
   "cell_type": "code",
   "execution_count": 7,
   "metadata": {},
   "outputs": [
    {
     "data": {
      "text/html": [
       "<video src=\"../../data/bacterial_video/vid.mp4\" controls  >\n",
       "      Your browser does not support the <code>video</code> element.\n",
       "    </video>"
      ],
      "text/plain": [
       "<IPython.core.display.Video object>"
      ]
     },
     "execution_count": 7,
     "metadata": {},
     "output_type": "execute_result"
    }
   ],
   "source": [
    "from IPython.display import Video\n",
    "\n",
    "Video(outputfile)"
   ]
  },
  {
   "cell_type": "code",
   "execution_count": null,
   "metadata": {},
   "outputs": [],
   "source": []
  }
 ],
 "metadata": {
  "kernelspec": {
   "display_name": "track_cell_walks",
   "language": "python",
   "name": "python3"
  },
  "language_info": {
   "codemirror_mode": {
    "name": "ipython",
    "version": 3
   },
   "file_extension": ".py",
   "mimetype": "text/x-python",
   "name": "python",
   "nbconvert_exporter": "python",
   "pygments_lexer": "ipython3",
   "version": "3.11.8"
  }
 },
 "nbformat": 4,
 "nbformat_minor": 2
}
