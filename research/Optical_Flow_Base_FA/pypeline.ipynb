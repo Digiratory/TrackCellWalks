{
 "cells": [
  {
   "cell_type": "markdown",
   "metadata": {},
   "source": [
    "Подготовить полный пайплайн обработки видео методом анализа оптического потока всего содержимого в пределах маски, оцениваемого интегральным методом (Farneback / TVL)"
   ]
  },
  {
   "cell_type": "markdown",
   "metadata": {},
   "source": [
    "Что такое маска? - область, которую надо проанализировать"
   ]
  },
  {
   "cell_type": "markdown",
   "metadata": {},
   "source": [
    "Bacterial and Edges.ipynb - с использованием модифицированной полности контуров\n",
    "bacterial_video.ipynb - это оценка флуктуации по оптическому потоку\n",
    "Synthetic_Model.ipynb - Синтетическая модель -- это первые эксперименты по оценке флуктуации оптического потока"
   ]
  }
 ],
 "metadata": {
  "language_info": {
   "name": "python"
  }
 },
 "nbformat": 4,
 "nbformat_minor": 2
}
