{
 "cells": [
  {
   "cell_type": "markdown",
   "metadata": {},
   "source": [
    "### TrackCellWalks pipeline \n",
    "\n",
    "video processing by analyzing the optical flow of all content within the mask, evaluated by the integral method (Farneback / EMD)"
   ]
  },
  {
   "cell_type": "markdown",
   "metadata": {},
   "source": [
    "#### Step 1. Define the input data"
   ]
  },
  {
   "cell_type": "code",
   "execution_count": 1,
   "metadata": {},
   "outputs": [],
   "source": [
    "'''Params:\n",
    "\n",
    ":input: path to file or directory with files\n",
    ":output_animation: .mp4, path to output otical \n",
    "    flow animation file\n",
    ":output_fluctuation_characteristic_file: .csv, path to \n",
    "    fluctuation characteristic\n",
    ":record_duration: the number of frames to read\n",
    ":base: the base of the logarithm\n",
    ":smin: the minimum size of the time scale\n",
    "'''\n",
    "\n",
    "params = {\n",
    "    \"input\": \"your/path/to/video\",\n",
    "    \"output_animation\": None,\n",
    "    \"output_fluctuation_characteristic_file\": None,\n",
    "    \"record_duration\": 100,\n",
    "    \"base\": 1.1,\n",
    "    \"smin\": 8\n",
    "}"
   ]
  },
  {
   "cell_type": "code",
   "execution_count": 2,
   "metadata": {},
   "outputs": [],
   "source": [
    "import json\n",
    "with open('params.json', 'w') as f:\n",
    "    json.dump(params, f)"
   ]
  },
  {
   "cell_type": "markdown",
   "metadata": {},
   "source": [
    "#### Step 2. Run workflow"
   ]
  },
  {
   "cell_type": "code",
   "execution_count": null,
   "metadata": {},
   "outputs": [],
   "source": [
    "%run 'main.py'"
   ]
  }
 ],
 "metadata": {
  "kernelspec": {
   "display_name": "track_cell_walks",
   "language": "python",
   "name": "python3"
  },
  "language_info": {
   "codemirror_mode": {
    "name": "ipython",
    "version": 3
   },
   "file_extension": ".py",
   "mimetype": "text/x-python",
   "name": "python",
   "nbconvert_exporter": "python",
   "pygments_lexer": "ipython3",
   "version": "3.11.8"
  }
 },
 "nbformat": 4,
 "nbformat_minor": 2
}
