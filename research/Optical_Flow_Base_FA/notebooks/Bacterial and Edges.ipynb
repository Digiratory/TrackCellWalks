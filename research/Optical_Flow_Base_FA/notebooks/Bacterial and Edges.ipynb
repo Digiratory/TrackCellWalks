{
 "cells": [
  {
   "cell_type": "code",
   "execution_count": 23,
   "id": "7ed18da6-2be5-44b8-b38c-11af88159ce3",
   "metadata": {
    "execution": {
     "iopub.execute_input": "2023-09-23T19:19:50.785935Z",
     "iopub.status.busy": "2023-09-23T19:19:50.785935Z",
     "iopub.status.idle": "2023-09-23T19:19:56.829037Z",
     "shell.execute_reply": "2023-09-23T19:19:56.827796Z",
     "shell.execute_reply.started": "2023-09-23T19:19:50.785935Z"
    },
    "tags": []
   },
   "outputs": [],
   "source": [
    "import cv2\n",
    "import numpy as np\n",
    "import matplotlib.pyplot as plt\n",
    "from IPython.display import clear_output\n",
    "from skimage.registration import optical_flow_ilk, optical_flow_tvl1\n",
    "from scipy.ndimage import gaussian_filter\n",
    "from scipy.stats import norm\n",
    "from tqdm.notebook import tqdm\n",
    "import os\n",
    "from scipy import stats\n",
    "from numpy.lib.stride_tricks import sliding_window_view\n",
    "import math\n",
    "from glob import glob"
   ]
  },
  {
   "cell_type": "code",
   "execution_count": 24,
   "id": "2c9625a0-5fad-4ce0-8c38-11429e3903c9",
   "metadata": {
    "execution": {
     "iopub.execute_input": "2023-09-23T19:19:56.830046Z",
     "iopub.status.busy": "2023-09-23T19:19:56.830046Z",
     "iopub.status.idle": "2023-09-23T19:19:56.844296Z",
     "shell.execute_reply": "2023-09-23T19:19:56.843324Z",
     "shell.execute_reply.started": "2023-09-23T19:19:56.830046Z"
    },
    "tags": []
   },
   "outputs": [],
   "source": [
    "from research.utils.optical_flow import compute_optical_low \n",
    "from research.utils.stats import plot_entire_stat_tresh, analyze_hs, plot_entire_stat_mask"
   ]
  },
  {
   "cell_type": "code",
   "execution_count": 25,
   "id": "70710aeb-ca7c-45cc-9781-a43375ac7d8a",
   "metadata": {
    "execution": {
     "iopub.execute_input": "2023-09-23T19:19:56.846276Z",
     "iopub.status.busy": "2023-09-23T19:19:56.845281Z",
     "iopub.status.idle": "2023-09-23T19:19:56.860276Z",
     "shell.execute_reply": "2023-09-23T19:19:56.859277Z",
     "shell.execute_reply.started": "2023-09-23T19:19:56.846276Z"
    },
    "tags": []
   },
   "outputs": [],
   "source": [
    "RECORD_DURATION = 100\n",
    "RECORD_FPS = 5"
   ]
  },
  {
   "cell_type": "code",
   "execution_count": 26,
   "id": "3bd5fc33-8881-4519-9eff-560398269e5b",
   "metadata": {
    "execution": {
     "iopub.execute_input": "2023-09-23T19:19:56.862276Z",
     "iopub.status.busy": "2023-09-23T19:19:56.861280Z",
     "iopub.status.idle": "2023-09-23T19:19:56.875519Z",
     "shell.execute_reply": "2023-09-23T19:19:56.874522Z",
     "shell.execute_reply.started": "2023-09-23T19:19:56.862276Z"
    },
    "tags": []
   },
   "outputs": [
    {
     "name": "stdout",
     "output_type": "stream",
     "text": [
      "[7, 8, 9, 10, 11, 13, 14, 15, 17, 19, 21, 23, 25, 28, 30, 34, 37, 41, 45]\n"
     ]
    }
   ],
   "source": [
    "# dpcca\n",
    "base = 1.1\n",
    "smin = 8\n",
    "L = RECORD_DURATION\n",
    "smax = L/2\n",
    "S = []\n",
    "for degree in range(int(math.log2(smin)/math.log2(base)), int(math.log2(smax)/math.log2(base))):\n",
    "    new = int(base**degree)\n",
    "    if not new in S:\n",
    "        S.append(new)\n",
    "print(S)"
   ]
  },
  {
   "cell_type": "code",
   "execution_count": 27,
   "id": "d90e3c51-c8ee-4869-a294-7ea9505f9d28",
   "metadata": {
    "execution": {
     "iopub.execute_input": "2023-09-23T19:23:48.374930Z",
     "iopub.status.busy": "2023-09-23T19:23:48.373930Z",
     "iopub.status.idle": "2023-09-23T19:23:48.389932Z",
     "shell.execute_reply": "2023-09-23T19:23:48.389009Z",
     "shell.execute_reply.started": "2023-09-23T19:23:48.374930Z"
    },
    "tags": []
   },
   "outputs": [],
   "source": [
    "def video_based_frame_generator(video_path, start_frame=0, step=1, blur_sigma=None, frame_count=np.iinfo(int).max):\n",
    "    cap = cv2.VideoCapture(video_path) \n",
    "    if not cap.isOpened():\n",
    "        print(\"Cannot open camera\")\n",
    "        return\n",
    "    \n",
    "    count = start_frame\n",
    "    cap.set(cv2.CAP_PROP_POS_FRAMES, count)\n",
    "    while True:\n",
    "        ret, frame = cap.read()\n",
    "        if not ret or count>= frame_count:\n",
    "            print(\"Can't receive frame (stream end?). Exiting ...\")\n",
    "            cap.release()\n",
    "            break            \n",
    "        grey_np = cv2.cvtColor(frame, cv2.COLOR_BGR2GRAY)\n",
    "        \n",
    "        #hsv_frame_np = cv2.cvtColor(frame, cv2.COLOR_BGR2HSV)\n",
    "        #grey_np = hsv_frame_np[...,1]\n",
    "        #grey_np = cv2.resize(grey_np, (FIELD_SIZE, FIELD_SIZE), interpolation= cv2.INTER_LINEAR)\n",
    "        if blur_sigma is not None:\n",
    "            grey_np = gaussian_filter(grey_np, sigma=blur_sigma)\n",
    "        count += step \n",
    "            \n",
    "        cap.set(cv2.CAP_PROP_POS_FRAMES, count)\n",
    "        yield grey_np\n",
    "    cap.release()\n",
    "\n",
    "def frame_generator(video_path:str, start_frame=0, step=1, blur_sigma=None, frame_count=np.iinfo(int).max):\n",
    "    return video_based_frame_generator(video_path, start_frame, step, blur_sigma, frame_count)"
   ]
  },
  {
   "cell_type": "code",
   "execution_count": 28,
   "id": "336e212e-7652-431e-8041-13f4dde17b00",
   "metadata": {
    "execution": {
     "iopub.execute_input": "2023-09-23T19:23:49.583318Z",
     "iopub.status.busy": "2023-09-23T19:23:49.583318Z",
     "iopub.status.idle": "2023-09-23T19:23:49.600993Z",
     "shell.execute_reply": "2023-09-23T19:23:49.599876Z",
     "shell.execute_reply.started": "2023-09-23T19:23:49.583318Z"
    },
    "tags": []
   },
   "outputs": [],
   "source": [
    "def get_vid_opt_flow(video_path, cache_path, start_frame=0, step=1):\n",
    "    if not os.path.exists(cache_path):\n",
    "        vs_np, us_np = compute_optical_low(frame_generator(video_path, blur_sigma=1, start_frame=start_frame, step=step, frame_count=RECORD_DURATION)) # 3 sec for performance\n",
    "        np.savez(cache_path, vs=vs_np, us=us_np)\n",
    "    else:\n",
    "        with np.load(cache_path) as npzfile:\n",
    "            vs_np = npzfile[\"vs\"]\n",
    "            us_np = npzfile[\"us\"]\n",
    "    return vs_np, us_np"
   ]
  },
  {
   "cell_type": "code",
   "execution_count": 29,
   "id": "f0d92efe-a213-40a2-8f6c-51b2b041f83d",
   "metadata": {
    "execution": {
     "iopub.execute_input": "2023-09-23T19:23:49.735783Z",
     "iopub.status.busy": "2023-09-23T19:23:49.734784Z",
     "iopub.status.idle": "2023-09-23T19:23:49.757810Z",
     "shell.execute_reply": "2023-09-23T19:23:49.755778Z",
     "shell.execute_reply.started": "2023-09-23T19:23:49.734784Z"
    },
    "tags": []
   },
   "outputs": [],
   "source": [
    "def bacterial_ds_generator(video_folder, cache_folder, cache_suffix=\"\"):\n",
    "    videos = glob(os.path.join(video_folder, f\"*.avi\"))\n",
    "    for vid in videos:\n",
    "        vid_name = os.path.split(vid)[1][:-4]\n",
    "        cache_path = os.path.join(cache_folder, vid_name+cache_suffix+\".npz\")\n",
    "        yield vid, cache_path\n",
    "        \n",
    "for v, c in bacterial_ds_generator(\"./data/bacterial_video/\", \"./data/bacterial_video/\"):\n",
    "    print(v, c)"
   ]
  },
  {
   "cell_type": "markdown",
   "id": "4af5f9a0-c606-4660-9d90-201037815055",
   "metadata": {},
   "source": [
    "# Prepare edges"
   ]
  },
  {
   "cell_type": "code",
   "execution_count": 10,
   "id": "b7de7f98-5f49-4c4a-83df-f1911eb279bb",
   "metadata": {
    "execution": {
     "iopub.execute_input": "2023-09-23T19:25:08.296897Z",
     "iopub.status.busy": "2023-09-23T19:25:08.296897Z",
     "iopub.status.idle": "2023-09-23T19:25:08.315028Z",
     "shell.execute_reply": "2023-09-23T19:25:08.315028Z",
     "shell.execute_reply.started": "2023-09-23T19:25:08.296897Z"
    },
    "tags": []
   },
   "outputs": [],
   "source": [
    "def mean_window(data, axis):\n",
    "    res = np.sum(data, axis=axis)\n",
    "    return res\n",
    "\n",
    "\n",
    "def std_window(data, axis):\n",
    "    res = np.std(data, axis=axis)\n",
    "    return res\n",
    "\n",
    "\n",
    "def roll(a,      # ND array\n",
    "         b_shape,      # rolling 2D window array size\n",
    "         dx=1,   # horizontal step, abscissa, number of columns\n",
    "         dy=1):  # vertical step, ordinate, number of rows\n",
    "    \"\"\"\n",
    "    Rolling 2D window for ND array\n",
    "    \"\"\"\n",
    "    shape = a.shape[:-2] + \\\n",
    "        ((a.shape[-2] - b_shape[-2]) // dy + 1,) + \\\n",
    "        ((a.shape[-1] - b_shape[-1]) // dx + 1,) + \\\n",
    "        b_shape  # sausage-like shape with 2D cross-section\n",
    "    strides = a.strides[:-2] + \\\n",
    "        (a.strides[-2] * dy,) + \\\n",
    "        (a.strides[-1] * dx,) + \\\n",
    "        a.strides[-2:]\n",
    "    return np.lib.stride_tricks.as_strided(a, shape=shape, strides=strides)\n",
    "\n",
    "\n",
    "def sliding_window(data, win_shape, fcn, dx=1, dy=1):\n",
    "    n = data.ndim  # number of dimensions\n",
    "    # np.all over 2 dimensions of the rolling 2D window for 4D array\n",
    "    result = fcn(roll(data, win_shape, dx, dy), axis=(n, n+1))\n",
    "    return result\n",
    "\n",
    "\n",
    "def tile_array(a, b0, b1):\n",
    "    r, c = a.shape                                    # number of rows/columns\n",
    "    rs, cs = a.strides                                # row/column strides\n",
    "    # view a as larger 4D array\n",
    "    x = np.lib.stride_tricks.as_strided(a, (r, b0, c, b1), (rs, 0, cs, 0))\n",
    "    return x.reshape(r*b0, c*b1)                      # create new 2D array\n",
    "\n",
    "\n",
    "def edge_density(img_np: np.array,\n",
    "                 win_size: int,\n",
    "                 win_step: int = 10) -> np.array:\n",
    "    \"\"\"Method is implemented algorithm for local edge density estimation, \n",
    "    proposed in \"Sinitca, A. M., Kayumov, A. R., Zelenikhin, P. V., \n",
    "    Porfiriev, A. G., Kaplun, D. I., & Bogachev, M. I. (2023). \n",
    "    Segmentation of patchy areas in biomedical images based on local edge\n",
    "    density estimation. Biomedical Signal Processing and Control, 79, 104189.\"\n",
    "\n",
    "    https://www.sciencedirect.com/science/article/abs/pii/S1746809422006437\n",
    "\n",
    "    Args:\n",
    "        img_np (np.array): Gray scale image\n",
    "        win_size (int): Size of averaging windows\n",
    "        win_step (int, optional): Step for windows sliding. Defaults to 10.\n",
    "        canny_1 (float, optional): 1st threshold for canny. Defaults to 41.\n",
    "        canny_2 (float, optional): 2nd threshold for canny. Defaults to 207.\n",
    "\n",
    "    Returns:\n",
    "        np.array: Edge dencity map\n",
    "    \"\"\"\n",
    "    dxy = win_step\n",
    "    ddepth = cv2.CV_16S\n",
    "    mid = cv2.Sobel(img_np, ddepth, 1, 1, ksize=5)\n",
    "    mid = cv2.convertScaleAbs(mid)\n",
    "    \n",
    "    result = sliding_window(mid, (win_size, win_size),\n",
    "                            mean_window, dx=dxy, dy=dxy) // ((win_size*win_size))\n",
    "    result = tile_array(result, dxy, dxy)\n",
    "    \n",
    "    h_pad = img_np.shape[0] - result.shape[0]\n",
    "    w_pad = img_np.shape[1] - result.shape[1]\n",
    "    result = np.pad(result, ((\n",
    "        h_pad//2, h_pad//2+img_np.shape[0] % 2), (w_pad//2, w_pad//2+img_np.shape[1] % 2)), 'edge')\n",
    "\n",
    "    \n",
    "    return result"
   ]
  },
  {
   "cell_type": "code",
   "execution_count": 11,
   "id": "38a4ad39-6226-48a4-9c15-16bb6edcc361",
   "metadata": {
    "execution": {
     "iopub.execute_input": "2023-09-23T19:25:08.594083Z",
     "iopub.status.busy": "2023-09-23T19:25:08.593084Z",
     "iopub.status.idle": "2023-09-23T19:25:08.611236Z",
     "shell.execute_reply": "2023-09-23T19:25:08.610336Z",
     "shell.execute_reply.started": "2023-09-23T19:25:08.594083Z"
    },
    "tags": []
   },
   "outputs": [],
   "source": [
    "def compute_edges_flow(generator,\n",
    "                 win_size: int,\n",
    "                 win_step: int = 10):\n",
    "    edges = []\n",
    "    image0 = None\n",
    "    for frame_np in tqdm(generator):\n",
    "        clear_output(wait=True)\n",
    "        #Build masked Image\n",
    "        edge_density_np = edge_density(frame_np, win_size, win_step)\n",
    "        edges.append(edge_density_np)\n",
    "        break\n",
    "    return np.array(edges)"
   ]
  },
  {
   "cell_type": "code",
   "execution_count": 12,
   "id": "6fdc3530-1a73-4c7c-8930-e1f341e4ece9",
   "metadata": {
    "execution": {
     "iopub.execute_input": "2023-09-23T19:25:09.292934Z",
     "iopub.status.busy": "2023-09-23T19:25:09.292934Z",
     "iopub.status.idle": "2023-09-23T19:25:09.312548Z",
     "shell.execute_reply": "2023-09-23T19:25:09.311533Z",
     "shell.execute_reply.started": "2023-09-23T19:25:09.292934Z"
    },
    "tags": []
   },
   "outputs": [],
   "source": [
    "def get_vid_edges_flow(video_path, \n",
    "                       cache_path, \n",
    "                       start_frame=0, \n",
    "                       step=1,\n",
    "                       win_size=50,\n",
    "                       win_step = 10):\n",
    "    if not os.path.exists(cache_path):\n",
    "        edges = compute_edges_flow(frame_generator(video_path, start_frame=start_frame, step=step, frame_count=RECORD_DURATION),\n",
    "                                         win_size,\n",
    "                                         win_step = 10) \n",
    "        np.savez(cache_path, edges=edges)\n",
    "    else:\n",
    "        with np.load(cache_path) as npzfile:\n",
    "            edges = npzfile[\"edges\"]\n",
    "    return edges"
   ]
  },
  {
   "cell_type": "code",
   "execution_count": 13,
   "id": "3e0abc27-4fda-43fd-84e0-df8bde32efc9",
   "metadata": {
    "execution": {
     "iopub.execute_input": "2023-09-23T19:25:09.483429Z",
     "iopub.status.busy": "2023-09-23T19:25:09.482920Z",
     "iopub.status.idle": "2023-09-23T19:25:09.497500Z",
     "shell.execute_reply": "2023-09-23T19:25:09.497500Z",
     "shell.execute_reply.started": "2023-09-23T19:25:09.483429Z"
    },
    "tags": []
   },
   "outputs": [],
   "source": [
    "for v, c in bacterial_ds_generator(\"./data/bacterial_video/\", \"./data/bacterial_video/\", cache_suffix=\"_edges\"):\n",
    "    print(v, c)"
   ]
  },
  {
   "cell_type": "markdown",
   "id": "2780186c-6866-485a-a9e0-c1f0a675b77a",
   "metadata": {},
   "source": [
    "## Estimate Optical Flow Stats with masking"
   ]
  },
  {
   "cell_type": "code",
   "execution_count": 18,
   "id": "a9476ad8-824b-4f58-8fc7-d2ada3c2950e",
   "metadata": {
    "execution": {
     "iopub.execute_input": "2023-09-23T20:03:34.615006Z",
     "iopub.status.busy": "2023-09-23T20:03:34.614005Z",
     "iopub.status.idle": "2023-09-23T20:04:18.845826Z",
     "shell.execute_reply": "2023-09-23T20:04:18.844742Z",
     "shell.execute_reply.started": "2023-09-23T20:03:34.615006Z"
    },
    "tags": []
   },
   "outputs": [],
   "source": [
    "from scipy.stats import circstd, circvar\n",
    "\n",
    "H_fish = []\n",
    "cut_point = 0\n",
    "temp = None\n",
    "THRESH = 0.5\n",
    "for (v, c), (v_, edges_c) in zip(bacterial_ds_generator(\"./bacterial_video/\", \"./bacterial_video/\"),\n",
    "                                bacterial_ds_generator(\"./bacterial_video/\", \"./bacterial_video/\", cache_suffix=\"_edges\")):\n",
    "    print(v, c)\n",
    "    vs_np, us_np = get_vid_opt_flow(v, c)\n",
    "    edges = get_vid_edges_flow(v, edges_c, win_size=50, win_step = 25)[1:]\n",
    "\n",
    "    vector_field = vs_np + 1j * us_np\n",
    "    mask = edges>np.quantile(edges, 0.3)\n",
    "    \n",
    "    # plt.figure()\n",
    "    # plt.imshow(mask[0])\n",
    "    # plt.axis('off')\n",
    "    # plt.plot()\n",
    "    \n",
    "    #plot_entire_stat_mask((vs_np.shape[1],vs_np.shape[2]), vs_np, us_np, mask=mask)\n",
    "    \n",
    "    #####################\n",
    "#     v_mean = vs_np[0]\n",
    "#     u_mean = us_np[0]\n",
    "#     v_mean[np.invert(mask[0])] =  np.nan\n",
    "#     u_mean[np.invert(mask[0])] =  np.nan\n",
    "    \n",
    "#     # --- Compute flow magnitude\n",
    "#     norm = np.sqrt(v_mean ** 2 + u_mean ** 2)\n",
    "#     # --- Display\n",
    "#     plt.figure(figsize=(8, 8))\n",
    "#     # --- Quiver plot arguments\n",
    "\n",
    "#     nvec = 25  # Number of vectors to be displayed along each image dimension\n",
    "#     print(vs_np.shape)\n",
    "#     nl, nc = vs_np.shape[1:]\n",
    "#     step = max(nl//nvec, nc//nvec)\n",
    "\n",
    "#     y, x = np.mgrid[:nl:step, :nc:step]\n",
    "#     u_ = u_mean[::step, ::step]\n",
    "#     v_ = v_mean[::step, ::step]\n",
    "\n",
    "#     plt.imshow(norm)\n",
    "#     plt.quiver(x, y, u_, v_, color='r', units='dots',\n",
    "#                angles='xy', scale_units='xy', lw=3)\n",
    "#     plt.title(\"Optical flow magnitude and vector field\")\n",
    "#     plt.axis('off')\n",
    "#     plt.tight_layout()\n",
    "\n",
    "#     plt.show()\n",
    "#     break\n",
    "    #####################\n",
    "    vector_field = vs_np + 1j * us_np\n",
    "    \n",
    "    #vector_field[mask] =  np.nan # Experiment for BG std\n",
    "    \n",
    "    print(\"vector_field\", vector_field.shape)\n",
    "    vector_field_std = np.diff(np.var(vector_field, axis=(1,2)))\n",
    "    print(\"vector_field_std\", vector_field_std.shape)\n",
    "    print(np.nanmin(vector_field_std), np.nanmedian(vector_field_std), np.nanmax(vector_field_std))\n",
    "    \n",
    "    plt.figure()\n",
    "    \n",
    "    # Original stats\n",
    "    std_ = np.std(vector_field_std)\n",
    "    mean_ = np.mean(vector_field_std)\n",
    "    plt.fill_between(range(len(vector_field_std)), mean_+2*std_, mean_-2*std_, facecolor='blue', alpha=0.25)\n",
    "    plt.plot(vector_field_std, label=v)\n",
    "    \n",
    "    \n",
    "    # remove and replot\n",
    "    \n",
    "    candidate_top = np.argwhere(vector_field_std> mean_ + 2*std_).flatten()\n",
    "    candidate_bottom = np.argwhere(vector_field_std < mean_ - 2*std_).flatten()\n",
    "    # print(candidate_top, candidate_bottom)\n",
    "    \n",
    "    to_remove = set(candidate_top+1) & set(candidate_bottom)\n",
    "    # print(to_remove) \n",
    "    \n",
    "    # Remove\n",
    "    vector_field = np.delete(vector_field, list(to_remove), 0)\n",
    "    \n",
    "    # vector_field = np.cumsum(vector_field, axis=0)\n",
    "    mask = np.delete(mask, list(to_remove), 0)\n",
    "    \n",
    "    # print(\"vector_field\", vector_field.shape)\n",
    "    vector_field_std = np.diff(np.var(vector_field, axis=(1,2)))\n",
    "    print(\"vector_field_std\", vector_field_std.shape)\n",
    "    print(np.nanmin(vector_field_std), np.nanmedian(vector_field_std), np.nanmax(vector_field_std))\n",
    "    std_ = np.std(vector_field_std)\n",
    "    mean_ = np.mean(vector_field_std)\n",
    "    # plt.fill_between(range(len(vector_field_std)), mean_+2*std_, mean_-2*std_, facecolor='blue', alpha=0.25)\n",
    "    # plt.plot(vector_field_std, label=v)\n",
    "    # plt.ylim((-20,20))\n",
    "    plt.legend()\n",
    "    plt.grid()\n",
    "    plt.show()\n",
    "    \n",
    "    \n",
    "    vector_field[np.invert(mask)] =  np.nan\n",
    "    \n",
    "    \n",
    "    compl_vars_ = []\n",
    "    for w_size in tqdm(S):\n",
    "        window = sliding_window_view(vector_field, w_size, axis=0)[::w_size//4, ...]\n",
    "        #H = np.std(np.sum(window, where=edges>np.quantile(edges, 0.3), axis=-1))\n",
    "        H = np.nanstd(np.sum(window, axis=-1))\n",
    "        compl_vars_.append(H)\n",
    "    H_fish.append(np.array(compl_vars_))\n",
    "    \n",
    "    cross, slope_l, slope_h = analyze_hs(compl_vars_, np.array(S), title=f\"H(S): {v}\")\n",
    "\n",
    "    break\n",
    "# plt.yscale(\"log\")\n",
    "# plt.legend()\n",
    "# plt.show()"
   ]
  },
  {
   "cell_type": "code",
   "execution_count": 22,
   "id": "f8a4155a-d74b-4751-9246-185b6ff4448d",
   "metadata": {
    "execution": {
     "iopub.status.busy": "2023-09-23T19:36:34.573962Z",
     "iopub.status.idle": "2023-09-23T19:36:34.574958Z",
     "shell.execute_reply": "2023-09-23T19:36:34.574958Z",
     "shell.execute_reply.started": "2023-09-23T19:36:34.574958Z"
    },
    "tags": []
   },
   "outputs": [
    {
     "ename": "NameError",
     "evalue": "name 'tqdm' is not defined",
     "output_type": "error",
     "traceback": [
      "\u001b[0;31m---------------------------------------------------------------------------\u001b[0m",
      "\u001b[0;31mNameError\u001b[0m                                 Traceback (most recent call last)",
      "Cell \u001b[0;32mIn[22], line 3\u001b[0m\n\u001b[1;32m      1\u001b[0m \u001b[38;5;28;01mfrom\u001b[39;00m \u001b[38;5;21;01mmatplotlib\u001b[39;00m\u001b[38;5;21;01m.\u001b[39;00m\u001b[38;5;21;01manimation\u001b[39;00m \u001b[38;5;28;01mimport\u001b[39;00m FFMpegWriter\n\u001b[1;32m      2\u001b[0m video_name \u001b[38;5;241m=\u001b[39m \u001b[38;5;124m\"\u001b[39m\u001b[38;5;124mpDGHtrA-LA(3)(+)\u001b[39m\u001b[38;5;124m\"\u001b[39m\n\u001b[0;32m----> 3\u001b[0m vs_np, us_np \u001b[38;5;241m=\u001b[39m \u001b[43mget_vid_opt_flow\u001b[49m\u001b[43m(\u001b[49m\u001b[38;5;124;43mf\u001b[39;49m\u001b[38;5;124;43m\"\u001b[39;49m\u001b[38;5;124;43m./bacterial_video/\u001b[39;49m\u001b[38;5;132;43;01m{\u001b[39;49;00m\u001b[43mvideo_name\u001b[49m\u001b[38;5;132;43;01m}\u001b[39;49;00m\u001b[38;5;124;43m.AVI\u001b[39;49m\u001b[38;5;124;43m\"\u001b[39;49m\u001b[43m,\u001b[49m\u001b[43m \u001b[49m\u001b[38;5;124;43mf\u001b[39;49m\u001b[38;5;124;43m\"\u001b[39;49m\u001b[38;5;124;43m./bacterial_video/\u001b[39;49m\u001b[38;5;132;43;01m{\u001b[39;49;00m\u001b[43mvideo_name\u001b[49m\u001b[38;5;132;43;01m}\u001b[39;49;00m\u001b[38;5;124;43m.npz\u001b[39;49m\u001b[38;5;124;43m\"\u001b[39;49m\u001b[43m)\u001b[49m\n\u001b[1;32m      4\u001b[0m edges \u001b[38;5;241m=\u001b[39m get_vid_edges_flow(\u001b[38;5;124mf\u001b[39m\u001b[38;5;124m\"\u001b[39m\u001b[38;5;124m./bacterial_video/\u001b[39m\u001b[38;5;132;01m{\u001b[39;00mvideo_name\u001b[38;5;132;01m}\u001b[39;00m\u001b[38;5;124m.AVI\u001b[39m\u001b[38;5;124m\"\u001b[39m, \u001b[38;5;124mf\u001b[39m\u001b[38;5;124m\"\u001b[39m\u001b[38;5;124m./bacterial_video/\u001b[39m\u001b[38;5;132;01m{\u001b[39;00mvideo_name\u001b[38;5;132;01m}\u001b[39;00m\u001b[38;5;124m_edges.npz\u001b[39m\u001b[38;5;124m\"\u001b[39m, win_size\u001b[38;5;241m=\u001b[39m\u001b[38;5;241m50\u001b[39m, win_step \u001b[38;5;241m=\u001b[39m \u001b[38;5;241m25\u001b[39m)[\u001b[38;5;241m1\u001b[39m:]\n\u001b[1;32m      5\u001b[0m mask \u001b[38;5;241m=\u001b[39m edges\u001b[38;5;241m>\u001b[39mnp\u001b[38;5;241m.\u001b[39mquantile(edges, \u001b[38;5;241m0.3\u001b[39m)\n",
      "Cell \u001b[0;32mIn[8], line 3\u001b[0m, in \u001b[0;36mget_vid_opt_flow\u001b[0;34m(video_path, cache_path, start_frame, step)\u001b[0m\n\u001b[1;32m      1\u001b[0m \u001b[38;5;28;01mdef\u001b[39;00m \u001b[38;5;21mget_vid_opt_flow\u001b[39m(video_path, cache_path, start_frame\u001b[38;5;241m=\u001b[39m\u001b[38;5;241m0\u001b[39m, step\u001b[38;5;241m=\u001b[39m\u001b[38;5;241m1\u001b[39m):\n\u001b[1;32m      2\u001b[0m     \u001b[38;5;28;01mif\u001b[39;00m \u001b[38;5;129;01mnot\u001b[39;00m os\u001b[38;5;241m.\u001b[39mpath\u001b[38;5;241m.\u001b[39mexists(cache_path):\n\u001b[0;32m----> 3\u001b[0m         vs_np, us_np \u001b[38;5;241m=\u001b[39m \u001b[43mcompute_optical_low\u001b[49m\u001b[43m(\u001b[49m\u001b[43mframe_generator\u001b[49m\u001b[43m(\u001b[49m\u001b[43mvideo_path\u001b[49m\u001b[43m,\u001b[49m\u001b[43m \u001b[49m\u001b[43mblur_sigma\u001b[49m\u001b[38;5;241;43m=\u001b[39;49m\u001b[38;5;241;43m1\u001b[39;49m\u001b[43m,\u001b[49m\u001b[43m \u001b[49m\u001b[43mstart_frame\u001b[49m\u001b[38;5;241;43m=\u001b[39;49m\u001b[43mstart_frame\u001b[49m\u001b[43m,\u001b[49m\u001b[43m \u001b[49m\u001b[43mstep\u001b[49m\u001b[38;5;241;43m=\u001b[39;49m\u001b[43mstep\u001b[49m\u001b[43m,\u001b[49m\u001b[43m \u001b[49m\u001b[43mframe_count\u001b[49m\u001b[38;5;241;43m=\u001b[39;49m\u001b[43mRECORD_DURATION\u001b[49m\u001b[43m)\u001b[49m\u001b[43m)\u001b[49m \u001b[38;5;66;03m# 3 sec for performance\u001b[39;00m\n\u001b[1;32m      4\u001b[0m         np\u001b[38;5;241m.\u001b[39msavez(cache_path, vs\u001b[38;5;241m=\u001b[39mvs_np, us\u001b[38;5;241m=\u001b[39mus_np)\n\u001b[1;32m      5\u001b[0m     \u001b[38;5;28;01melse\u001b[39;00m:\n",
      "File \u001b[0;32m~/work/TrackCellWalks/research/utils/optical_flow.py:5\u001b[0m, in \u001b[0;36mcompute_optical_low\u001b[0;34m(generator, radius, gen_length)\u001b[0m\n\u001b[1;32m      3\u001b[0m vs, us \u001b[38;5;241m=\u001b[39m [], []\n\u001b[1;32m      4\u001b[0m image0 \u001b[38;5;241m=\u001b[39m \u001b[38;5;28;01mNone\u001b[39;00m\n\u001b[0;32m----> 5\u001b[0m \u001b[38;5;28;01mfor\u001b[39;00m frame_np \u001b[38;5;129;01min\u001b[39;00m \u001b[43mtqdm\u001b[49m(generator, total\u001b[38;5;241m=\u001b[39mgen_length):\n\u001b[1;32m      6\u001b[0m     clear_output(wait\u001b[38;5;241m=\u001b[39m\u001b[38;5;28;01mTrue\u001b[39;00m)\n\u001b[1;32m      7\u001b[0m     \u001b[38;5;66;03m#Build masked Image\u001b[39;00m\n",
      "\u001b[0;31mNameError\u001b[0m: name 'tqdm' is not defined"
     ]
    }
   ],
   "source": [
    "from matplotlib.animation import FFMpegWriter\n",
    "video_name = \"pDGHtrA-LA(3)(+)\"\n",
    "vs_np, us_np = get_vid_opt_flow(f\"./bacterial_video/{video_name}.AVI\", f\"./bacterial_video/{video_name}.npz\")\n",
    "edges = get_vid_edges_flow(f\"./bacterial_video/{video_name}.AVI\", f\"./bacterial_video/{video_name}_edges.npz\", win_size=50, win_step = 25)[1:]\n",
    "mask = edges>np.quantile(edges, 0.3)\n",
    "vs_np[np.invert(mask)] =  np.nan\n",
    "us_np[np.invert(mask)] =  np.nan\n",
    "\n",
    "low_perc = 0.1\n",
    "hig_perc = 0.9\n",
    "v_05 = np.nanquantile(vs_np ** 2, low_perc)# y direction    \n",
    "v_95 = np.nanquantile(vs_np ** 2, hig_perc)# y direction    \n",
    "u_05 = np.nanquantile(us_np ** 2, low_perc)# x direction\n",
    "u_95 = np.nanquantile(us_np ** 2, hig_perc)# x direction\n",
    "# --- Compute flow magnitude\n",
    "magn_05 = np.sqrt(v_05 + u_05)\n",
    "magn_95 = np.sqrt(v_95 + u_95)\n",
    "\n",
    "\n",
    "nl, nc = vs_np.shape[1:]\n",
    "nvec = 25  # Number of vectors to be displayed along each image dimension\n",
    "step = max(nl//nvec, nc//nvec)\n",
    "\n",
    "\n",
    "plt.style.use(\"ggplot\")\n",
    "fig = plt.figure(figsize=(15,10))\n",
    "plt.axis('off')\n",
    "writervideo = FFMpegWriter(fps=10) \n",
    "with writervideo.saving(fig, f\"./bacterial_video/masked_optical_flow_{video_name}.mp4\", 100):\n",
    "    for v_np, u_np in tqdm(zip(vs_np, us_np)):\n",
    "        fig.clf()\n",
    "        # --- Display\n",
    "        # --- Quiver plot arguments\n",
    "        y, x = np.mgrid[:nl:step, :nc:step]\n",
    "        u_ = u_np[::step, ::step]\n",
    "        v_ = v_np[::step, ::step]\n",
    "\n",
    "        norm = np.sqrt(v_np ** 2 + u_np ** 2)\n",
    "        fig.gca().imshow(norm, vmin=magn_05, vmax=magn_95, cmap=\"jet\")\n",
    "        fig.gca().quiver(x, y, u_, v_, color='r', units='dots',\n",
    "                   angles='xy', scale_units='xy', lw=3)\n",
    "        writervideo.grab_frame()"
   ]
  },
  {
   "cell_type": "code",
   "execution_count": null,
   "id": "1e5453d4-faa6-42b9-a2fd-bfd81691ebc5",
   "metadata": {},
   "outputs": [],
   "source": []
  },
  {
   "cell_type": "code",
   "execution_count": null,
   "id": "72250a9e-8694-4edb-b522-c08f5ac30200",
   "metadata": {},
   "outputs": [],
   "source": []
  }
 ],
 "metadata": {
  "kernelspec": {
   "display_name": "Python 3 (ipykernel)",
   "language": "python",
   "name": "python3"
  },
  "language_info": {
   "codemirror_mode": {
    "name": "ipython",
    "version": 3
   },
   "file_extension": ".py",
   "mimetype": "text/x-python",
   "name": "python",
   "nbconvert_exporter": "python",
   "pygments_lexer": "ipython3",
   "version": "3.11.8"
  }
 },
 "nbformat": 4,
 "nbformat_minor": 5
}
